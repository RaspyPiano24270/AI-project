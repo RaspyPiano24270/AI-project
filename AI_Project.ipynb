{
  "nbformat": 4,
  "nbformat_minor": 0,
  "metadata": {
    "colab": {
      "provenance": [],
      "include_colab_link": true
    },
    "kernelspec": {
      "name": "python3",
      "display_name": "Python 3"
    },
    "language_info": {
      "name": "python"
    }
  },
  "cells": [
    {
      "cell_type": "markdown",
      "metadata": {
        "id": "view-in-github",
        "colab_type": "text"
      },
      "source": [
        "<a href=\"https://colab.research.google.com/github/RaspyPiano24270/AI-project/blob/Eric'sBranch/AI_Project.ipynb\" target=\"_parent\"><img src=\"https://colab.research.google.com/assets/colab-badge.svg\" alt=\"Open In Colab\"/></a>"
      ]
    },
    {
      "cell_type": "markdown",
      "source": [
        "#Eric's Version"
      ],
      "metadata": {
        "id": "zMhfkMiYQ4sX"
      }
    },
    {
      "cell_type": "code",
      "source": [
        "#install Gemini SDK\n",
        "!pip install -U google-generativeai\n",
        "!pip show google-generativeai"
      ],
      "metadata": {
        "id": "8bZpANfmUc6D",
        "colab": {
          "base_uri": "https://localhost:8080/"
        },
        "outputId": "2a667d20-8c3f-4e8b-a875-4e606c75baf7",
        "collapsed": true
      },
      "execution_count": null,
      "outputs": [
        {
          "output_type": "stream",
          "name": "stdout",
          "text": [
            "Requirement already satisfied: google-generativeai in /usr/local/lib/python3.11/dist-packages (0.8.5)\n",
            "Requirement already satisfied: google-ai-generativelanguage==0.6.15 in /usr/local/lib/python3.11/dist-packages (from google-generativeai) (0.6.15)\n",
            "Requirement already satisfied: google-api-core in /usr/local/lib/python3.11/dist-packages (from google-generativeai) (2.25.1)\n",
            "Requirement already satisfied: google-api-python-client in /usr/local/lib/python3.11/dist-packages (from google-generativeai) (2.176.0)\n",
            "Requirement already satisfied: google-auth>=2.15.0 in /usr/local/lib/python3.11/dist-packages (from google-generativeai) (2.38.0)\n",
            "Requirement already satisfied: protobuf in /usr/local/lib/python3.11/dist-packages (from google-generativeai) (5.29.5)\n",
            "Requirement already satisfied: pydantic in /usr/local/lib/python3.11/dist-packages (from google-generativeai) (2.11.7)\n",
            "Requirement already satisfied: tqdm in /usr/local/lib/python3.11/dist-packages (from google-generativeai) (4.67.1)\n",
            "Requirement already satisfied: typing-extensions in /usr/local/lib/python3.11/dist-packages (from google-generativeai) (4.14.1)\n",
            "Requirement already satisfied: proto-plus<2.0.0dev,>=1.22.3 in /usr/local/lib/python3.11/dist-packages (from google-ai-generativelanguage==0.6.15->google-generativeai) (1.26.1)\n",
            "Requirement already satisfied: googleapis-common-protos<2.0.0,>=1.56.2 in /usr/local/lib/python3.11/dist-packages (from google-api-core->google-generativeai) (1.70.0)\n",
            "Requirement already satisfied: requests<3.0.0,>=2.18.0 in /usr/local/lib/python3.11/dist-packages (from google-api-core->google-generativeai) (2.32.3)\n",
            "Requirement already satisfied: cachetools<6.0,>=2.0.0 in /usr/local/lib/python3.11/dist-packages (from google-auth>=2.15.0->google-generativeai) (5.5.2)\n",
            "Requirement already satisfied: pyasn1-modules>=0.2.1 in /usr/local/lib/python3.11/dist-packages (from google-auth>=2.15.0->google-generativeai) (0.4.2)\n",
            "Requirement already satisfied: rsa<5,>=3.1.4 in /usr/local/lib/python3.11/dist-packages (from google-auth>=2.15.0->google-generativeai) (4.9.1)\n",
            "Requirement already satisfied: httplib2<1.0.0,>=0.19.0 in /usr/local/lib/python3.11/dist-packages (from google-api-python-client->google-generativeai) (0.22.0)\n",
            "Requirement already satisfied: google-auth-httplib2<1.0.0,>=0.2.0 in /usr/local/lib/python3.11/dist-packages (from google-api-python-client->google-generativeai) (0.2.0)\n",
            "Requirement already satisfied: uritemplate<5,>=3.0.1 in /usr/local/lib/python3.11/dist-packages (from google-api-python-client->google-generativeai) (4.2.0)\n",
            "Requirement already satisfied: annotated-types>=0.6.0 in /usr/local/lib/python3.11/dist-packages (from pydantic->google-generativeai) (0.7.0)\n",
            "Requirement already satisfied: pydantic-core==2.33.2 in /usr/local/lib/python3.11/dist-packages (from pydantic->google-generativeai) (2.33.2)\n",
            "Requirement already satisfied: typing-inspection>=0.4.0 in /usr/local/lib/python3.11/dist-packages (from pydantic->google-generativeai) (0.4.1)\n",
            "Requirement already satisfied: grpcio<2.0.0,>=1.33.2 in /usr/local/lib/python3.11/dist-packages (from google-api-core[grpc]!=2.0.*,!=2.1.*,!=2.10.*,!=2.2.*,!=2.3.*,!=2.4.*,!=2.5.*,!=2.6.*,!=2.7.*,!=2.8.*,!=2.9.*,<3.0.0dev,>=1.34.1->google-ai-generativelanguage==0.6.15->google-generativeai) (1.73.1)\n",
            "Requirement already satisfied: grpcio-status<2.0.0,>=1.33.2 in /usr/local/lib/python3.11/dist-packages (from google-api-core[grpc]!=2.0.*,!=2.1.*,!=2.10.*,!=2.2.*,!=2.3.*,!=2.4.*,!=2.5.*,!=2.6.*,!=2.7.*,!=2.8.*,!=2.9.*,<3.0.0dev,>=1.34.1->google-ai-generativelanguage==0.6.15->google-generativeai) (1.71.2)\n",
            "Requirement already satisfied: pyparsing!=3.0.0,!=3.0.1,!=3.0.2,!=3.0.3,<4,>=2.4.2 in /usr/local/lib/python3.11/dist-packages (from httplib2<1.0.0,>=0.19.0->google-api-python-client->google-generativeai) (3.2.3)\n",
            "Requirement already satisfied: pyasn1<0.7.0,>=0.6.1 in /usr/local/lib/python3.11/dist-packages (from pyasn1-modules>=0.2.1->google-auth>=2.15.0->google-generativeai) (0.6.1)\n",
            "Requirement already satisfied: charset-normalizer<4,>=2 in /usr/local/lib/python3.11/dist-packages (from requests<3.0.0,>=2.18.0->google-api-core->google-generativeai) (3.4.2)\n",
            "Requirement already satisfied: idna<4,>=2.5 in /usr/local/lib/python3.11/dist-packages (from requests<3.0.0,>=2.18.0->google-api-core->google-generativeai) (3.10)\n",
            "Requirement already satisfied: urllib3<3,>=1.21.1 in /usr/local/lib/python3.11/dist-packages (from requests<3.0.0,>=2.18.0->google-api-core->google-generativeai) (2.5.0)\n",
            "Requirement already satisfied: certifi>=2017.4.17 in /usr/local/lib/python3.11/dist-packages (from requests<3.0.0,>=2.18.0->google-api-core->google-generativeai) (2025.7.14)\n",
            "Name: google-generativeai\n",
            "Version: 0.8.5\n",
            "Summary: Google Generative AI High level API client library and tools.\n",
            "Home-page: https://github.com/google/generative-ai-python\n",
            "Author: Google LLC\n",
            "Author-email: googleapis-packages@google.com\n",
            "License: Apache 2.0\n",
            "Location: /usr/local/lib/python3.11/dist-packages\n",
            "Requires: google-ai-generativelanguage, google-api-core, google-api-python-client, google-auth, protobuf, pydantic, tqdm, typing-extensions\n",
            "Required-by: \n"
          ]
        }
      ]
    },
    {
      "cell_type": "code",
      "execution_count": null,
      "metadata": {
        "id": "wxnjspI3uJ7K",
        "colab": {
          "base_uri": "https://localhost:8080/"
        },
        "collapsed": true,
        "outputId": "2d423e1f-0b5e-4c51-e1e3-0b643d08861c"
      },
      "outputs": [
        {
          "name": "stdout",
          "output_type": "stream",
          "text": [
            "Enter your Gemini API key (will be hidden): ··········\n"
          ]
        }
      ],
      "source": [
        "#import Gemini with hidden API key\n",
        "import getpass\n",
        "import google.generativeai as genai\n",
        "\n",
        "api_key = getpass.getpass(\"Enter your Gemini API key (will be hidden): \")\n",
        "genai.configure(api_key=api_key)\n",
        "\n",
        "#load Gemini Pro model\n",
        "model = genai.GenerativeModel(model_name='models/gemini-1.5-pro-latest')"
      ]
    },
    {
      "cell_type": "code",
      "source": [
        "#generate quiz based on topic\n",
        "def generate_question(topic, level=\"mc\"):\n",
        "  prompt = f\"\"\"\n",
        "Generate a challenging multiple-choice question on the topic: \"{topic}\".\n",
        "Include four options (A-D) and indicate the correct one by saying: 'Answer: [correct option]'.\n",
        "  \"\"\"\n",
        "  response = model.generate_content(prompt)\n",
        "  return response.text.strip()"
      ],
      "metadata": {
        "id": "hzYa0pZ0VrDb"
      },
      "execution_count": null,
      "outputs": []
    },
    {
      "cell_type": "code",
      "source": [
        "#evaluate answer\n",
        "def evaluate_answer(question, answer):\n",
        "  feedback_prompt = f\"\"\"\n",
        "You are an AI tutor giving feedback to a student.\n",
        "\n",
        "Question: {question}\n",
        "Student's Answer: {answer}\n",
        "\n",
        "Give your feedback in 3 parts:\n",
        "1. What the student did well\n",
        "2. what could be improved\n",
        "3. A tip for answering better next time\n",
        "\n",
        "keep it under 100 words\n",
        "\"\"\"\n",
        "  response = model.generate_content(feedback_prompt)\n",
        "  return response.text.strip()"
      ],
      "metadata": {
        "id": "d4mzE0n9Vs3b"
      },
      "execution_count": null,
      "outputs": []
    },
    {
      "cell_type": "code",
      "source": [
        "#generate response and run interaction\n",
        "def parse_mc_question(full_output):\n",
        "    if \"Answer:\" in full_output:\n",
        "        question_part, answer_part = full_output.split(\"Answer:\")\n",
        "        return question_part.strip(), answer_part.strip().upper()\n",
        "    else:\n",
        "        return full_output.strip(), None\n",
        "# Get question\n",
        "level = \"mc\"\n",
        "topic = input(\"Enter a topic you're studying: \")\n",
        "raw_output = generate_question(topic, level)\n",
        "\n",
        "# Parse and display\n",
        "question_text, correct_answer = parse_mc_question(raw_output)\n",
        "print(\"\\n📝 Multiple-Choice Question:\")\n",
        "print(question_text)\n",
        "\n",
        "# Get student response\n",
        "student_answer = input(\"\\nYour Answer: \").strip().upper()\n",
        "\n",
        "# Generate feedback using Gemini\n",
        "feedback_prompt = f\"\"\"\n",
        "The student answered a multiple-choice question.\n",
        "\n",
        "Question: {question_text}\n",
        "Correct Answer: {correct_answer}\n",
        "Student Answer: {student_answer}\n",
        "\n",
        "Give feedback:\n",
        "- If they were right, explain why their answer is correct.\n",
        "- If they were wrong, explain the correct answer and why.\n",
        "- Suggest one tip for remembering it better next time.\n",
        "\"\"\"\n",
        "\n",
        "feedback = model.generate_content(feedback_prompt)\n",
        "print(\"\\n📣 AI Feedback:\")\n",
        "print(feedback.text.strip())"
      ],
      "metadata": {
        "colab": {
          "base_uri": "https://localhost:8080/",
          "height": 454
        },
        "id": "zprfvSwZqwBJ",
        "outputId": "fc390025-657b-4b64-d5fa-065908c9509b"
      },
      "execution_count": null,
      "outputs": [
        {
          "output_type": "stream",
          "name": "stdout",
          "text": [
            "Enter a topic you're studying: WWII\n",
            "\n",
            "📝 Multiple-Choice Question:\n",
            "Which of the following combinations of wartime conferences correctly matches the primary participants with the major decision(s) made at that conference?\n",
            "\n",
            "\n",
            "A) Tehran Conference (Churchill, Roosevelt, Stalin): Agreement on the unconditional surrender of Germany and the opening of a second front in Western Europe.  Establishment of the United Nations.\n",
            "\n",
            "B) Yalta Conference (Churchill, Roosevelt, Stalin): Decision to divide Germany into four occupation zones,  planning for post-war Europe and the establishment of the Bretton Woods system.\n",
            "\n",
            "C) Potsdam Conference (Churchill, Truman, Stalin): Confirmation of the unconditional surrender of Japan, finalization of German occupation zones and agreement on reparations, and the official start of the Cold War.\n",
            "\n",
            "D) Casablanca Conference (Churchill, Roosevelt): Agreement on the invasion of Italy (Operation Husky), strategic bombing campaigns against Germany, and the demand for \"unconditional surrender\" from the Axis powers.\n",
            "\n",
            "Your Answer: C\n",
            "\n",
            "📣 AI Feedback:\n",
            "The correct answer is D, not C. Let's break down why:\n",
            "\n",
            "* **Option C (Student's Answer - Incorrect):** While the Potsdam Conference did involve Churchill (initially), Truman, and Stalin, and addressed the German occupation zones and reparations, the unconditional surrender of Japan was *not* confirmed there. Japan surrendered after the atomic bombings of Hiroshima and Nagasaki, which occurred *after* Potsdam.  Also, while Potsdam highlighted growing tensions, it's not typically considered the official *start* of the Cold War.\n",
            "\n",
            "* **Option D (Correct Answer):** The Casablanca Conference in January 1943 was attended by Churchill and Roosevelt (Stalin was not present).  The key decisions made there were the agreement to invade Italy (Operation Husky), the intensification of strategic bombing of Germany, and, importantly, the announcement of the Allied demand for \"unconditional surrender\" from the Axis powers.\n",
            "\n",
            "**Tip for remembering:**  Think of Casablanca as the conference where the Allies got tough.  The demand for \"unconditional surrender\" was a significant and uncompromising declaration. This strong stance can help you link Casablanca to this decision. You could also remember it by noting that Casablanca came *before* the other conferences listed, and the unconditional surrender demand was a precursor to the later discussions about occupation zones and post-war arrangements.\n"
          ]
        }
      ]
    },
    {
      "cell_type": "markdown",
      "source": [
        "# Redhouse Version"
      ],
      "metadata": {
        "id": "O0r_qQDbkpg7"
      }
    },
    {
      "cell_type": "code",
      "source": [
        "#install Gemini SDK\n",
        "!pip install -U google-generativeai\n",
        "!pip show google-generativeai"
      ],
      "metadata": {
        "id": "3VDaBy5Ikyc8",
        "colab": {
          "base_uri": "https://localhost:8080/"
        },
        "collapsed": true,
        "outputId": "e325165e-5c89-41bb-c5c5-e4af3112a69a"
      },
      "execution_count": null,
      "outputs": [
        {
          "output_type": "stream",
          "name": "stdout",
          "text": [
            "Requirement already satisfied: google-generativeai in /usr/local/lib/python3.11/dist-packages (0.8.5)\n",
            "Requirement already satisfied: google-ai-generativelanguage==0.6.15 in /usr/local/lib/python3.11/dist-packages (from google-generativeai) (0.6.15)\n",
            "Requirement already satisfied: google-api-core in /usr/local/lib/python3.11/dist-packages (from google-generativeai) (2.25.1)\n",
            "Requirement already satisfied: google-api-python-client in /usr/local/lib/python3.11/dist-packages (from google-generativeai) (2.176.0)\n",
            "Requirement already satisfied: google-auth>=2.15.0 in /usr/local/lib/python3.11/dist-packages (from google-generativeai) (2.38.0)\n",
            "Requirement already satisfied: protobuf in /usr/local/lib/python3.11/dist-packages (from google-generativeai) (5.29.5)\n",
            "Requirement already satisfied: pydantic in /usr/local/lib/python3.11/dist-packages (from google-generativeai) (2.11.7)\n",
            "Requirement already satisfied: tqdm in /usr/local/lib/python3.11/dist-packages (from google-generativeai) (4.67.1)\n",
            "Requirement already satisfied: typing-extensions in /usr/local/lib/python3.11/dist-packages (from google-generativeai) (4.14.1)\n",
            "Requirement already satisfied: proto-plus<2.0.0dev,>=1.22.3 in /usr/local/lib/python3.11/dist-packages (from google-ai-generativelanguage==0.6.15->google-generativeai) (1.26.1)\n",
            "Requirement already satisfied: googleapis-common-protos<2.0.0,>=1.56.2 in /usr/local/lib/python3.11/dist-packages (from google-api-core->google-generativeai) (1.70.0)\n",
            "Requirement already satisfied: requests<3.0.0,>=2.18.0 in /usr/local/lib/python3.11/dist-packages (from google-api-core->google-generativeai) (2.32.3)\n",
            "Requirement already satisfied: cachetools<6.0,>=2.0.0 in /usr/local/lib/python3.11/dist-packages (from google-auth>=2.15.0->google-generativeai) (5.5.2)\n",
            "Requirement already satisfied: pyasn1-modules>=0.2.1 in /usr/local/lib/python3.11/dist-packages (from google-auth>=2.15.0->google-generativeai) (0.4.2)\n",
            "Requirement already satisfied: rsa<5,>=3.1.4 in /usr/local/lib/python3.11/dist-packages (from google-auth>=2.15.0->google-generativeai) (4.9.1)\n",
            "Requirement already satisfied: httplib2<1.0.0,>=0.19.0 in /usr/local/lib/python3.11/dist-packages (from google-api-python-client->google-generativeai) (0.22.0)\n",
            "Requirement already satisfied: google-auth-httplib2<1.0.0,>=0.2.0 in /usr/local/lib/python3.11/dist-packages (from google-api-python-client->google-generativeai) (0.2.0)\n",
            "Requirement already satisfied: uritemplate<5,>=3.0.1 in /usr/local/lib/python3.11/dist-packages (from google-api-python-client->google-generativeai) (4.2.0)\n",
            "Requirement already satisfied: annotated-types>=0.6.0 in /usr/local/lib/python3.11/dist-packages (from pydantic->google-generativeai) (0.7.0)\n",
            "Requirement already satisfied: pydantic-core==2.33.2 in /usr/local/lib/python3.11/dist-packages (from pydantic->google-generativeai) (2.33.2)\n",
            "Requirement already satisfied: typing-inspection>=0.4.0 in /usr/local/lib/python3.11/dist-packages (from pydantic->google-generativeai) (0.4.1)\n",
            "Requirement already satisfied: grpcio<2.0.0,>=1.33.2 in /usr/local/lib/python3.11/dist-packages (from google-api-core[grpc]!=2.0.*,!=2.1.*,!=2.10.*,!=2.2.*,!=2.3.*,!=2.4.*,!=2.5.*,!=2.6.*,!=2.7.*,!=2.8.*,!=2.9.*,<3.0.0dev,>=1.34.1->google-ai-generativelanguage==0.6.15->google-generativeai) (1.73.1)\n",
            "Requirement already satisfied: grpcio-status<2.0.0,>=1.33.2 in /usr/local/lib/python3.11/dist-packages (from google-api-core[grpc]!=2.0.*,!=2.1.*,!=2.10.*,!=2.2.*,!=2.3.*,!=2.4.*,!=2.5.*,!=2.6.*,!=2.7.*,!=2.8.*,!=2.9.*,<3.0.0dev,>=1.34.1->google-ai-generativelanguage==0.6.15->google-generativeai) (1.71.2)\n",
            "Requirement already satisfied: pyparsing!=3.0.0,!=3.0.1,!=3.0.2,!=3.0.3,<4,>=2.4.2 in /usr/local/lib/python3.11/dist-packages (from httplib2<1.0.0,>=0.19.0->google-api-python-client->google-generativeai) (3.2.3)\n",
            "Requirement already satisfied: pyasn1<0.7.0,>=0.6.1 in /usr/local/lib/python3.11/dist-packages (from pyasn1-modules>=0.2.1->google-auth>=2.15.0->google-generativeai) (0.6.1)\n",
            "Requirement already satisfied: charset-normalizer<4,>=2 in /usr/local/lib/python3.11/dist-packages (from requests<3.0.0,>=2.18.0->google-api-core->google-generativeai) (3.4.2)\n",
            "Requirement already satisfied: idna<4,>=2.5 in /usr/local/lib/python3.11/dist-packages (from requests<3.0.0,>=2.18.0->google-api-core->google-generativeai) (3.10)\n",
            "Requirement already satisfied: urllib3<3,>=1.21.1 in /usr/local/lib/python3.11/dist-packages (from requests<3.0.0,>=2.18.0->google-api-core->google-generativeai) (2.5.0)\n",
            "Requirement already satisfied: certifi>=2017.4.17 in /usr/local/lib/python3.11/dist-packages (from requests<3.0.0,>=2.18.0->google-api-core->google-generativeai) (2025.7.14)\n",
            "Name: google-generativeai\n",
            "Version: 0.8.5\n",
            "Summary: Google Generative AI High level API client library and tools.\n",
            "Home-page: https://github.com/google/generative-ai-python\n",
            "Author: Google LLC\n",
            "Author-email: googleapis-packages@google.com\n",
            "License: Apache 2.0\n",
            "Location: /usr/local/lib/python3.11/dist-packages\n",
            "Requires: google-ai-generativelanguage, google-api-core, google-api-python-client, google-auth, protobuf, pydantic, tqdm, typing-extensions\n",
            "Required-by: \n"
          ]
        }
      ]
    },
    {
      "cell_type": "code",
      "source": [
        "#import Gemini with hidden API key\n",
        "import getpass\n",
        "import google.generativeai as genai\n",
        "\n",
        "api_key = getpass.getpass(\"Enter your Gemini API key (will be hidden): \")\n",
        "genai.configure(api_key=api_key)\n",
        "\n",
        "#load Gemini Pro model\n",
        "model = genai.GenerativeModel(model_name='models/gemini-1.5-pro-latest')"
      ],
      "metadata": {
        "id": "3pAXwvVeUwJL",
        "colab": {
          "base_uri": "https://localhost:8080/"
        },
        "outputId": "e76814b9-cfa7-4841-94d8-ef14cf87bf71"
      },
      "execution_count": null,
      "outputs": [
        {
          "name": "stdout",
          "output_type": "stream",
          "text": [
            "Enter your Gemini API key (will be hidden): ··········\n"
          ]
        }
      ]
    },
    {
      "cell_type": "code",
      "source": [
        "def generate_questions(topic):\n",
        "  prompt = f\"\"\"\n",
        "  You are an expert tutor. Generate one multiple-choice question for the topic: \"{topic}\".\n",
        "\n",
        "  Instructions:\n",
        "  - Provide a question followed by a 4 answer choice labeled A to D.\n",
        "  - Make it moderately challenging and academically accurate.\n",
        "  - On the last line, write: Answer: [The Letter of the Academically Correct Answer]\n",
        "\n",
        "  Example:\n",
        "  What does CPU stand for?\n",
        "  A. Central Processing Unit\n",
        "  B. Computer Program Utility\n",
        "  C. Central Power Unit\n",
        "  D. Computer Performance Unit\n",
        "\n",
        "  Answer: A\n",
        "  \"\"\"\n",
        "\n",
        "  response = model.generate_content(prompt)\n",
        "  return response.text.strip()"
      ],
      "metadata": {
        "id": "CWLqcj4WLTTP"
      },
      "execution_count": null,
      "outputs": []
    },
    {
      "cell_type": "code",
      "source": [
        "#evaluate answer\n",
        "def evaluate_answerTwo(question, correct_answer, answer):\n",
        "  feedback_prompt = f\"\"\"\n",
        "You are an AI tutor giving feedback to a student.\n",
        "\n",
        "Question: {question}\n",
        "Student's Answer: {answer}\n",
        "\n",
        "Give your feedback in 3 parts:\n",
        "1. What the student did well\n",
        "2. what could be improved\n",
        "3. A tip for answering better next time\n",
        "\n",
        "keep it under 100 words\n",
        "\"\"\"\n",
        "  response = model.generate_content(feedback_prompt)\n",
        "  return response.text.strip()"
      ],
      "metadata": {
        "id": "GAmr7nVUdL3B"
      },
      "execution_count": null,
      "outputs": []
    },
    {
      "cell_type": "code",
      "source": [
        "def parse_mc_question(full_output):\n",
        "    if \"Answer:\" in full_output:\n",
        "        question_part, answer_part = full_output.split(\"Answer:\")\n",
        "        return question_part.strip(), answer_part.strip().upper()\n",
        "    else:\n",
        "        return full_output.strip(), None\n",
        "\n",
        "# Loop version of Erics code\n",
        "\n",
        "def quiz_run(topic, num_questions=3):\n",
        "  score = 0\n",
        "  for i in range(num_questions):\n",
        "    print(f\"\\nQuestions {i + 1} of {num_questions}\")\n",
        "    raw_output = generate_questions(topic)\n",
        "    question_text, correct_answer = parse_mc_question(raw_output)\n",
        "\n",
        "    print(\"\\nMultiple-Choice Question:\")\n",
        "    print(question_text)\n",
        "    s_answer = input(\"\\nYour Answer (A/B/C/D): \").strip().upper()\n",
        "\n",
        "    if s_answer == correct_answer:\n",
        "      score += 1\n",
        "\n",
        "    feedback = evaluate_answerTwo(question_text, correct_answer, s_answer)\n",
        "    print(\"\\nAI Feedback:\\n\")\n",
        "    print(feedback)\n",
        "\n",
        "  print(f\"\\nFinal Grade: {score}/{num_questions}\")\n",
        "\n",
        "# Test\n",
        "topic = input(\"Enter a topic you're studying: \")\n",
        "quiz_run(topic)"
      ],
      "metadata": {
        "colab": {
          "base_uri": "https://localhost:8080/",
          "height": 888
        },
        "id": "Kt4rV67fINGY",
        "outputId": "89c9ec95-32b1-4243-fb66-b8de6ca13a54"
      },
      "execution_count": null,
      "outputs": [
        {
          "output_type": "stream",
          "name": "stdout",
          "text": [
            "Enter a topic you're studying: Biology\n",
            "\n",
            "Questions 1 of 3\n",
            "\n",
            "Multiple-Choice Question:\n",
            "Which of the following best describes the role of allosteric inhibitors in enzyme regulation?\n",
            "A. They bind to the active site of the enzyme, preventing substrate binding.\n",
            "B. They bind to a site other than the active site, inducing a conformational change that decreases enzyme activity.\n",
            "C. They increase the activation energy of the catalyzed reaction.\n",
            "D. They denature the enzyme, permanently inhibiting its function.\n",
            "\n",
            "Your Answer (A/B/C/D): A\n",
            "\n",
            "AI Feedback:\n",
            "\n",
            "You recognized that inhibitors decrease enzyme activity. However, allosteric inhibitors work differently than competitive inhibitors.  They bind to a site *other* than the active site, called the allosteric site.  This binding changes the enzyme's shape, making it harder for the substrate to bind. Next time, pay close attention to keywords like \"allosteric,\" which points to a different mechanism than direct active site competition.\n",
            "\n",
            "Questions 2 of 3\n",
            "\n",
            "Multiple-Choice Question:\n",
            "Which of the following processes contributes *most* directly to genetic variation within a sexually reproducing population?\n",
            "A. Mitosis\n",
            "B. Binary Fission\n",
            "C. Meiosis\n",
            "D. DNA Replication\n",
            "\n",
            "Your Answer (A/B/C/D): B\n",
            "\n",
            "AI Feedback:\n",
            "\n",
            "You recognized that the question asks about a process that creates variation.  However, binary fission creates genetically identical offspring, a characteristic of asexual reproduction. The correct answer is meiosis, which through crossing over and independent assortment, generates genetic diversity in gametes, a hallmark of sexual reproduction. Next time, focus on the keywords:  \"genetic variation\" and \"sexually reproducing.\" This will guide you to consider processes unique to sexual reproduction.\n",
            "\n",
            "Questions 3 of 3\n",
            "\n",
            "Multiple-Choice Question:\n",
            "Which of the following best describes the role of the Golgi apparatus within a eukaryotic cell?\n",
            "\n",
            "A.  Synthesis of ribosomes and assembly of amino acids into proteins.\n",
            "B.  Cellular respiration and production of ATP through oxidative phosphorylation.\n",
            "C.  Processing, packaging, and distribution of proteins and lipids.\n",
            "D.  Breakdown of cellular waste and detoxification of harmful substances.\n",
            "\n",
            "Your Answer (A/B/C/D): c\n",
            "\n",
            "AI Feedback:\n",
            "\n",
            "Excellent! You correctly identified the Golgi apparatus's main role (C) in protein and lipid processing, packaging, and distribution.  There's nothing to improve on your answer choice itself; it's perfectly accurate.  As a tip for future similar questions, quickly review the functions of the other organelles (like mitochondria, ribosomes, and lysosomes) in your mind to solidify your understanding of their distinct roles and confirm your choice by elimination.\n",
            "\n",
            "Final Grade: 1/3\n"
          ]
        }
      ]
    }
  ]
}